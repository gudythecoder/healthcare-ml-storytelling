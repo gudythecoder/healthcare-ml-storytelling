{
 "cells": [
  {
   "cell_type": "code",
   "execution_count": 2,
   "id": "f4cf9611-c532-4c55-ba45-58caadfa3a7b",
   "metadata": {},
   "outputs": [],
   "source": [
    "with open(\"requirements.txt\", \"w\") as f:\n",
    "    f.write(\"\"\"pandas==1.5.3\n",
    "numpy==1.24.3\n",
    "scikit-learn==1.2.2\n",
    "matplotlib==3.7.1\n",
    "seaborn==0.12.2\n",
    "xgboost==1.7.6\n",
    "lightgbm==3.3.5\n",
    "jupyterlab==3.6.3\"\"\")\n"
   ]
  },
  {
   "cell_type": "code",
   "execution_count": null,
   "id": "6c414936-4a8d-4cc4-8293-260cbbbb6766",
   "metadata": {},
   "outputs": [],
   "source": []
  }
 ],
 "metadata": {
  "kernelspec": {
   "display_name": "Python 3 (ipykernel)",
   "language": "python",
   "name": "python3"
  },
  "language_info": {
   "codemirror_mode": {
    "name": "ipython",
    "version": 3
   },
   "file_extension": ".py",
   "mimetype": "text/x-python",
   "name": "python",
   "nbconvert_exporter": "python",
   "pygments_lexer": "ipython3",
   "version": "3.12.2"
  }
 },
 "nbformat": 4,
 "nbformat_minor": 5
}
