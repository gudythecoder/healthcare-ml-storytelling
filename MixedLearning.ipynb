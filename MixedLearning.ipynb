{
 "cells": [
  {
   "cell_type": "code",
   "execution_count": 2,
   "id": "d1bac20b-7fcc-4129-b8b7-fe4f2ec07794",
   "metadata": {},
   "outputs": [
    {
     "name": "stdout",
     "output_type": "stream",
     "text": [
      "\n",
      "Logistic Regression with Cluster Feature Evaluation:\n",
      "Classification Report:\n",
      "               precision    recall  f1-score   support\n",
      "\n",
      "           0       0.52      0.77      0.62       155\n",
      "           1       0.49      0.23      0.32       145\n",
      "\n",
      "    accuracy                           0.51       300\n",
      "   macro avg       0.50      0.50      0.47       300\n",
      "weighted avg       0.50      0.51      0.47       300\n",
      "\n",
      "ROC-AUC Score: 0.5228031145717464\n",
      "\n",
      "Random Forest with Cluster Feature Evaluation:\n",
      "Classification Report:\n",
      "               precision    recall  f1-score   support\n",
      "\n",
      "           0       0.54      0.50      0.52       155\n",
      "           1       0.50      0.54      0.52       145\n",
      "\n",
      "    accuracy                           0.52       300\n",
      "   macro avg       0.52      0.52      0.52       300\n",
      "weighted avg       0.52      0.52      0.52       300\n",
      "\n",
      "ROC-AUC Score: 0.5159510567296997\n"
     ]
    },
    {
     "data": {
      "image/png": "[encoded data removed]",
      "text/plain": [
       "<Figure size 600x400 with 1 Axes>"
      ]
     },
     "metadata": {},
     "output_type": "display_data"
    }
   ],
   "source": [
    "import pandas as pd\n",
    "from sklearn.preprocessing import LabelEncoder, StandardScaler\n",
    "from sklearn.cluster import KMeans\n",
    "from sklearn.model_selection import train_test_split\n",
    "from sklearn.linear_model import LogisticRegression\n",
    "from sklearn.ensemble import RandomForestClassifier\n",
    "from sklearn.metrics import classification_report, roc_auc_score\n",
    "import matplotlib.pyplot as plt\n",
    "import seaborn as sns\n",
    "\n",
    "# --- 1. Load Dataset ---\n",
    "df = pd.read_csv(\"healthcare_dataset.csv\")\n",
    "\n",
    "# --- 2. Encode Categorical Variables ---\n",
    "le = LabelEncoder()\n",
    "df['Gender'] = le.fit_transform(df['Gender'])\n",
    "df['Smoking_Status'] = le.fit_transform(df['Smoking_Status'])\n",
    "df['Disease_Diagnosis'] = df['Disease_Diagnosis'].map({'Yes': 1, 'No': 0})\n",
    "\n",
    "# --- 3. K-Means Clustering on Unlabeled Features ---\n",
    "cluster_features = ['Age', 'BMI', 'Blood_Pressure', 'Cholesterol_Level', 'Blood_Sugar_Level', 'Heart_Rate']\n",
    "X_cluster = df[cluster_features]\n",
    "\n",
    "scaler = StandardScaler()\n",
    "X_scaled = scaler.fit_transform(X_cluster)\n",
    "\n",
    "kmeans = KMeans(n_clusters=3, random_state=42)\n",
    "df['Cluster'] = kmeans.fit_predict(X_scaled)\n",
    "\n",
    "# --- 4. Prepare Dataset for Supervised Learning ---\n",
    "model_features = ['Age', 'BMI', 'Blood_Pressure', 'Cholesterol_Level', 'Blood_Sugar_Level', 'Smoking_Status', 'Cluster']\n",
    "X = df[model_features]\n",
    "y = df['Disease_Diagnosis']\n",
    "\n",
    "# Encode 'Cluster' if needed (it’s already numeric here)\n",
    "# Optionally one-hot encode it if models benefit from non-linear separation\n",
    "\n",
    "# --- 5. Train-Test Split ---\n",
    "X_train, X_test, y_train, y_test = train_test_split(X, y, test_size=0.3, random_state=42)\n",
    "\n",
    "# --- 6. Train Logistic Regression ---\n",
    "lr = LogisticRegression(max_iter=1000)\n",
    "lr.fit(X_train, y_train)\n",
    "y_pred_lr = lr.predict(X_test)\n",
    "y_proba_lr = lr.predict_proba(X_test)[:, 1]\n",
    "\n",
    "# --- 7. Train Random Forest ---\n",
    "rf = RandomForestClassifier(random_state=42)\n",
    "rf.fit(X_train, y_train)\n",
    "y_pred_rf = rf.predict(X_test)\n",
    "y_proba_rf = rf.predict_proba(X_test)[:, 1]\n",
    "\n",
    "# --- 8. Evaluation ---\n",
    "def evaluate_model(y_true, y_pred, y_proba, model_name):\n",
    "    print(f\"\\n{model_name} Evaluation:\")\n",
    "    print(\"Classification Report:\\n\", classification_report(y_true, y_pred))\n",
    "    print(\"ROC-AUC Score:\", roc_auc_score(y_true, y_proba))\n",
    "\n",
    "evaluate_model(y_test, y_pred_lr, y_proba_lr, \"Logistic Regression with Cluster Feature\")\n",
    "evaluate_model(y_test, y_pred_rf, y_proba_rf, \"Random Forest with Cluster Feature\")\n",
    "\n",
    "# --- 9. (Optional) Visualize Cluster Distribution ---\n",
    "plt.figure(figsize=(6, 4))\n",
    "sns.countplot(x='Cluster', hue='Disease_Diagnosis', data=df)\n",
    "plt.title(\"Cluster Distribution by Disease Diagnosis\")\n",
    "plt.xlabel(\"Cluster\")\n",
    "plt.ylabel(\"Count\")\n",
    "plt.legend(title=\"Disease\")\n",
    "plt.show()\n",
    "\n"
   ]
  },
  {
   "cell_type": "code",
   "execution_count": null,
   "id": "56b26fed-0ecb-4f9b-84fb-489ecfd279f1",
   "metadata": {},
   "outputs": [],
   "source": []
  }
 ],
 "metadata": {
  "kernelspec": {
   "display_name": "Python 3 (ipykernel)",
   "language": "python",
   "name": "python3"
  },
  "language_info": {
   "codemirror_mode": {
    "name": "ipython",
    "version": 3
   },
   "file_extension": ".py",
   "mimetype": "text/x-python",
   "name": "python",
   "nbconvert_exporter": "python",
   "pygments_lexer": "ipython3",
   "version": "3.12.2"
  }
 },
 "nbformat": 4,
 "nbformat_minor": 5
}
